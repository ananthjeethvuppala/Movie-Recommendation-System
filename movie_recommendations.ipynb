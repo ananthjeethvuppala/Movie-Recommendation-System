{
 "cells": [
  {
   "cell_type": "markdown",
   "id": "3a42d905",
   "metadata": {},
   "source": [
    "# Content-Based Movie Recommendation System\n",
    "## Dataset: TMDB 5000 Movies + Credits"
   ]
  },
  {
   "cell_type": "markdown",
   "id": "393c9f4e",
   "metadata": {},
   "source": [
    "### Importing required Libraries"
   ]
  },
  {
   "cell_type": "code",
   "execution_count": 9,
   "id": "a30f95a8",
   "metadata": {},
   "outputs": [],
   "source": [
    "#Required Python Libraries\n",
    "import pandas as pd\n",
    "import numpy as np\n",
    "import re\n",
    "import ast\n",
    "import nltk\n",
    "from nltk.corpus import stopwords\n",
    "from nltk.tokenize import word_tokenize\n",
    "from sklearn.feature_extraction.text import TfidfVectorizer\n",
    "from sklearn.metrics.pairwise import cosine_similarity"
   ]
  },
  {
   "cell_type": "markdown",
   "id": "dfbe1c23",
   "metadata": {},
   "source": [
    "### Download NLTK data (run once)"
   ]
  },
  {
   "cell_type": "code",
   "execution_count": 10,
   "id": "8830bd53",
   "metadata": {},
   "outputs": [
    {
     "name": "stderr",
     "output_type": "stream",
     "text": [
      "[nltk_data] Downloading package punkt to\n",
      "[nltk_data]     C:\\Users\\Admin\\AppData\\Roaming\\nltk_data...\n",
      "[nltk_data]   Package punkt is already up-to-date!\n",
      "[nltk_data] Downloading package stopwords to\n",
      "[nltk_data]     C:\\Users\\Admin\\AppData\\Roaming\\nltk_data...\n",
      "[nltk_data]   Package stopwords is already up-to-date!\n"
     ]
    }
   ],
   "source": [
    "nltk.download(\"punkt\")\n",
    "nltk.download(\"stopwords\")\n",
    "stop_words = set(stopwords.words(\"english\"))"
   ]
  },
  {
   "cell_type": "markdown",
   "id": "7538101d",
   "metadata": {},
   "source": [
    "### To Load the Dataset"
   ]
  },
  {
   "cell_type": "code",
   "execution_count": 11,
   "id": "72d4740f",
   "metadata": {},
   "outputs": [],
   "source": [
    "movies = pd.read_csv(\"data/tmdb_5000_movies.csv\")\n",
    "credits = pd.read_csv(\"data/tmdb_5000_credits.csv\")\n",
    "\n",
    "# Merge datasets on 'id'\n",
    "movies = movies.merge(credits, left_on=\"id\", right_on=\"movie_id\")\n",
    "movies = movies[[\"title_x\", \"genres\", \"keywords\", \"overview\", \"cast\", \"crew\"]] #Select only required columns\n",
    "movies = movies.rename(columns={\"title_x\": \"title\"})"
   ]
  },
  {
   "cell_type": "markdown",
   "id": "332a1a2b",
   "metadata": {},
   "source": [
    "### Helping Functions"
   ]
  },
  {
   "cell_type": "code",
   "execution_count": 12,
   "id": "3550f967",
   "metadata": {},
   "outputs": [],
   "source": [
    "# Function to extract names from JSON-like fields\n",
    "def extract_names(x):\n",
    "    try:\n",
    "        data = ast.literal_eval(x)\n",
    "        return \" \".join([d[\"name\"] for d in data])\n",
    "    except:\n",
    "        return \"\"\n",
    "\n",
    "# Function to get top 5 cast members\n",
    "def extract_cast(x, top_n=5):\n",
    "    try:\n",
    "        data = ast.literal_eval(x)\n",
    "        return \" \".join([d[\"name\"] for d in data[:top_n]])\n",
    "    except:\n",
    "        return \"\"\n",
    "\n",
    "# Function to get director name\n",
    "def extract_director(x):\n",
    "    try:\n",
    "        data = ast.literal_eval(x)\n",
    "        directors = [d[\"name\"] for d in data if d.get(\"job\") == \"Director\"]\n",
    "        return \" \".join(directors)\n",
    "    except:\n",
    "        return \"\"\n",
    "\n",
    "# Text preprocessing\n",
    "def preprocess_text(text):\n",
    "    text = re.sub(r\"[^a-zA-Z\\s]\", \" \", str(text))\n",
    "    text = text.lower()\n",
    "    tokens = word_tokenize(text)\n",
    "    tokens = [word for word in tokens if word not in stop_words]\n",
    "    return \" \".join(tokens)"
   ]
  },
  {
   "cell_type": "markdown",
   "id": "d32733fe",
   "metadata": {},
   "source": [
    "### Apply Feature Extraction"
   ]
  },
  {
   "cell_type": "code",
   "execution_count": 13,
   "id": "39fd61c7",
   "metadata": {},
   "outputs": [],
   "source": [
    "movies[\"genres\"] = movies[\"genres\"].apply(extract_names)\n",
    "movies[\"keywords\"] = movies[\"keywords\"].apply(extract_names)\n",
    "movies[\"cast\"] = movies[\"cast\"].apply(extract_cast)\n",
    "movies[\"crew\"] = movies[\"crew\"].apply(extract_director)\n",
    "\n",
    "# Combine all features into one column\n",
    "movies[\"combined\"] = (\n",
    "    movies[\"genres\"] + \" \" +\n",
    "    movies[\"keywords\"] + \" \" +\n",
    "    movies[\"overview\"].astype(str) + \" \" +\n",
    "    movies[\"cast\"] + \" \" +\n",
    "    movies[\"crew\"]\n",
    ")\n",
    "\n",
    "# Clean and combined text\n",
    "movies[\"cleaned_text\"] = movies[\"combined\"].apply(preprocess_text)"
   ]
  },
  {
   "cell_type": "markdown",
   "id": "b920a388",
   "metadata": {},
   "source": [
    "### Vectorization (TF-IDF) & Similarity"
   ]
  },
  {
   "cell_type": "code",
   "execution_count": 14,
   "id": "1c4611b1",
   "metadata": {},
   "outputs": [],
   "source": [
    "# Convert text to TF-IDF Vectors\n",
    "tfidf = TfidfVectorizer(max_features=5000)\n",
    "tfidf_matrix = tfidf.fit_transform(movies[\"cleaned_text\"])\n",
    "\n",
    "# Compute cosine similarity between movies\n",
    "cosine_sim = cosine_similarity(tfidf_matrix, tfidf_matrix)"
   ]
  },
  {
   "cell_type": "markdown",
   "id": "1fae372b",
   "metadata": {},
   "source": [
    "### Recommendation Function"
   ]
  },
  {
   "cell_type": "code",
   "execution_count": 15,
   "id": "2920aa69",
   "metadata": {},
   "outputs": [],
   "source": [
    "def recommend_movies(movie_name, top_n=5):\n",
    "    # Find the index of the movie\n",
    "    idx = movies[movies[\"title\"].str.lower() == movie_name.lower()].index\n",
    "    if len(idx) == 0:\n",
    "        return f\"Movie '{movie_name}' not found\"\n",
    "    idx = idx[0]\n",
    "\n",
    "    # Compute similarity scores\n",
    "    sim_scores = list(enumerate(cosine_sim[idx]))\n",
    "    sim_scores = sorted(sim_scores, key=lambda x: x[1], reverse=True)[1:top_n+1]\n",
    "    movie_indices = [i[0] for i in sim_scores] # Get indices of top movies\n",
    "    return movies.iloc[movie_indices][[\"title\"]]"
   ]
  },
  {
   "cell_type": "markdown",
   "id": "77ae122a",
   "metadata": {},
   "source": [
    "### Your Input from the Dataset"
   ]
  },
  {
   "cell_type": "code",
   "execution_count": 16,
   "id": "485f06dc",
   "metadata": {},
   "outputs": [
    {
     "data": {
      "text/html": [
       "<div>\n",
       "<style scoped>\n",
       "    .dataframe tbody tr th:only-of-type {\n",
       "        vertical-align: middle;\n",
       "    }\n",
       "\n",
       "    .dataframe tbody tr th {\n",
       "        vertical-align: top;\n",
       "    }\n",
       "\n",
       "    .dataframe thead th {\n",
       "        text-align: right;\n",
       "    }\n",
       "</style>\n",
       "<table border=\"1\" class=\"dataframe\">\n",
       "  <thead>\n",
       "    <tr style=\"text-align: right;\">\n",
       "      <th></th>\n",
       "      <th>title</th>\n",
       "    </tr>\n",
       "  </thead>\n",
       "  <tbody>\n",
       "    <tr>\n",
       "      <th>3</th>\n",
       "      <td>The Dark Knight Rises</td>\n",
       "    </tr>\n",
       "    <tr>\n",
       "      <th>119</th>\n",
       "      <td>Batman Begins</td>\n",
       "    </tr>\n",
       "    <tr>\n",
       "      <th>428</th>\n",
       "      <td>Batman Returns</td>\n",
       "    </tr>\n",
       "    <tr>\n",
       "      <th>299</th>\n",
       "      <td>Batman Forever</td>\n",
       "    </tr>\n",
       "    <tr>\n",
       "      <th>9</th>\n",
       "      <td>Batman v Superman: Dawn of Justice</td>\n",
       "    </tr>\n",
       "  </tbody>\n",
       "</table>\n",
       "</div>"
      ],
      "text/plain": [
       "                                  title\n",
       "3                 The Dark Knight Rises\n",
       "119                       Batman Begins\n",
       "428                      Batman Returns\n",
       "299                      Batman Forever\n",
       "9    Batman v Superman: Dawn of Justice"
      ]
     },
     "execution_count": 16,
     "metadata": {},
     "output_type": "execute_result"
    }
   ],
   "source": [
    "recommend_movies(\"The Dark Knight\")"
   ]
  }
 ],
 "metadata": {
  "kernelspec": {
   "display_name": "movienv (3.11.9)",
   "language": "python",
   "name": "python3"
  },
  "language_info": {
   "codemirror_mode": {
    "name": "ipython",
    "version": 3
   },
   "file_extension": ".py",
   "mimetype": "text/x-python",
   "name": "python",
   "nbconvert_exporter": "python",
   "pygments_lexer": "ipython3",
   "version": "3.11.9"
  }
 },
 "nbformat": 4,
 "nbformat_minor": 5
}
